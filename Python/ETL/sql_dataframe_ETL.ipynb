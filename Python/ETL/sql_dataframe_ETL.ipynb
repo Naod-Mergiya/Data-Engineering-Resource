{
 "cells": [
  {
   "cell_type": "markdown",
   "id": "f5095b19",
   "metadata": {},
   "source": [
    "### IMPORT MODULES\n"
   ]
  },
  {
   "cell_type": "code",
   "execution_count": null,
   "id": "ec62d9e4",
   "metadata": {},
   "outputs": [],
   "source": [
    "import sqlalchemy\n",
    "import pandas as pd"
   ]
  },
  {
   "cell_type": "markdown",
   "id": "9ea36141",
   "metadata": {},
   "source": [
    "### Extract\n"
   ]
  },
  {
   "cell_type": "code",
   "execution_count": null,
   "id": "216992e0",
   "metadata": {},
   "outputs": [],
   "source": [
    "## SQl Connection for extract\n",
    "\n",
    "def extract_from_sql(connection_url, query):\n",
    "# Create an engine, query data and return DataFrame\n",
    "    db_engine = sqlalchemy.create_engine(connection_url)\n",
    "    return  pd. read_sql(query, db_engine)\n",
    "extract_from_sql(\"postgresql+psycopg2://../market\", \"SELECT ... LIMIT 10;\")"
   ]
  },
  {
   "cell_type": "markdown",
   "id": "70d458e7",
   "metadata": {},
   "source": [
    "### Transform"
   ]
  },
  {
   "cell_type": "code",
   "execution_count": null,
   "id": "84328d96",
   "metadata": {},
   "outputs": [],
   "source": [
    "# extracted from csv  extract funtion alredy written\n",
    "raw_sales_data = extract(\"sales_data.csv\")\n",
    "\n",
    "def transform(raw_data):\n",
    "    # Convert the \"Order Date\" column to type datetime\n",
    "    raw_data[\"Order Date\"] = pd.to_datetime(raw_data[\"Order Date\"], format=\"%m/%d/%y %H:%M\")\n",
    "    \n",
    "    # Only keep items under ten dollars\n",
    "    clean_data = raw_data.loc[raw_data[\"Price Each\"]<10, :]\n",
    "    return clean_data\n",
    "\n",
    "clean_sales_data = transform(raw_sales_data)\n",
    "\n",
    "# Check the data types of each column\n",
    "print(clean_sales_data.dtypes)\n"
   ]
  }
 ],
 "metadata": {
  "language_info": {
   "name": "python"
  }
 },
 "nbformat": 4,
 "nbformat_minor": 5
}
